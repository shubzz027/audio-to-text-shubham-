{
  "nbformat": 4,
  "nbformat_minor": 0,
  "metadata": {
    "colab": {
      "provenance": []
    },
    "kernelspec": {
      "name": "python3",
      "display_name": "Python 3"
    },
    "language_info": {
      "name": "python"
    }
  },
  "cells": [
    {
      "cell_type": "code",
      "execution_count": 1,
      "metadata": {
        "colab": {
          "base_uri": "https://localhost:8080/"
        },
        "id": "is_tCcHfYPh4",
        "outputId": "20b2a4c6-3624-4c30-fc20-38e6628c6ab7"
      },
      "outputs": [
        {
          "output_type": "stream",
          "name": "stdout",
          "text": [
            "Collecting SpeechRecognition\n",
            "  Downloading SpeechRecognition-3.12.0-py3-none-any.whl.metadata (30 kB)\n",
            "Requirement already satisfied: typing-extensions in /usr/local/lib/python3.10/dist-packages (from SpeechRecognition) (4.12.2)\n",
            "Downloading SpeechRecognition-3.12.0-py3-none-any.whl (32.8 MB)\n",
            "\u001b[2K   \u001b[90m━━━━━━━━━━━━━━━━━━━━━━━━━━━━━━━━━━━━━━━━\u001b[0m \u001b[32m32.8/32.8 MB\u001b[0m \u001b[31m25.0 MB/s\u001b[0m eta \u001b[36m0:00:00\u001b[0m\n",
            "\u001b[?25hInstalling collected packages: SpeechRecognition\n",
            "Successfully installed SpeechRecognition-3.12.0\n"
          ]
        }
      ],
      "source": [
        "\n",
        "!pip install SpeechRecognition"
      ]
    },
    {
      "cell_type": "code",
      "source": [
        "!pip install pydub"
      ],
      "metadata": {
        "colab": {
          "base_uri": "https://localhost:8080/"
        },
        "id": "2DYHNpn-YkX0",
        "outputId": "13dc5b94-19f1-4fba-803a-45165cbe69f5"
      },
      "execution_count": 2,
      "outputs": [
        {
          "output_type": "stream",
          "name": "stdout",
          "text": [
            "Collecting pydub\n",
            "  Downloading pydub-0.25.1-py2.py3-none-any.whl.metadata (1.4 kB)\n",
            "Downloading pydub-0.25.1-py2.py3-none-any.whl (32 kB)\n",
            "Installing collected packages: pydub\n",
            "Successfully installed pydub-0.25.1\n"
          ]
        }
      ]
    },
    {
      "cell_type": "code",
      "source": [
        "import speech_recognition as sr\n",
        "from pydub import AudioSegment\n",
        "\n",
        "# Convert audio file to WAV format if it's not already in WAV format (e.g., MP3)\n",
        "audio_file = \"/content/sample_audio.mp3\"  # Replace with your audio file path\n",
        "audio = AudioSegment.from_mp3(audio_file)\n",
        "audio.export(\"audio.wav\", format=\"wav\")\n",
        "\n",
        "# Initialize recognizer\n",
        "recognizer = sr.Recognizer()\n",
        "\n",
        "# Load the audio file into recognizer\n",
        "audio_file_path = \"audio.wav\"  # This is the WAV file we created\n",
        "with sr.AudioFile(audio_file_path) as source:\n",
        "    print(\"Listening to audio...\")\n",
        "    audio_data = recognizer.record(source)\n",
        "\n",
        "# Perform speech-to-text conversion using Google's web speech API\n",
        "try:\n",
        "    text = recognizer.recognize_google(audio_data)\n",
        "    print(\"Transcription: \", text)\n",
        "except sr.UnknownValueError:\n",
        "    print(\"Sorry, could not understand the audio\")\n",
        "except sr.RequestError:\n",
        "    print(\"Could not request results from Google Speech Recognition service\")"
      ],
      "metadata": {
        "colab": {
          "base_uri": "https://localhost:8080/"
        },
        "id": "MU9gKjlGYxtC",
        "outputId": "1eda064c-0618-4915-f7df-870ecc84a89b"
      },
      "execution_count": 4,
      "outputs": [
        {
          "output_type": "stream",
          "name": "stdout",
          "text": [
            "Listening to audio...\n",
            "Transcription:  hello this is a sample audio file for you I hope you find it helpful\n"
          ]
        }
      ]
    },
    {
      "cell_type": "code",
      "source": [],
      "metadata": {
        "id": "E-DwLoZFaR6M"
      },
      "execution_count": null,
      "outputs": []
    }
  ]
}